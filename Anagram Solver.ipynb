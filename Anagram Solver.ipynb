{
 "cells": [
  {
   "cell_type": "code",
   "execution_count": 2,
   "metadata": {},
   "outputs": [
    {
     "name": "stdout",
     "output_type": "stream",
     "text": [
      "hello\n",
      "yellow\n"
     ]
    }
   ],
   "source": [
    "\n"
   ]
  },
  {
   "cell_type": "code",
   "execution_count": 4,
   "metadata": {
    "collapsed": true
   },
   "outputs": [],
   "source": []
  },
  {
   "cell_type": "code",
   "execution_count": 6,
   "metadata": {},
   "outputs": [
    {
     "name": "stdout",
     "output_type": "stream",
     "text": [
      "dave\n",
      "video\n",
      "No anagram!\n"
     ]
    }
   ],
   "source": [
    "list1=list(input().lower())\n",
    "list2=list(input().lower())\n",
    "list3=[]\n",
    "#convert inputs to lowercase\n",
    "\n",
    "for k in list1:\n",
    "        if k ==\" \":\n",
    "            list1.remove(k)\n",
    "for l in list2:\n",
    "        if l == \" \":\n",
    "            list2.remove(l)\n",
    "#remove spaces\n",
    "\n",
    "          \n",
    "\n",
    "if len(list1) != len(list2):\n",
    "    print(\"No anagram!\")\n",
    "#Immediately not anagrams if words are different lengths.\n",
    "\n",
    "else:            \n",
    "    for i in list1:\n",
    "        for j in list2:\n",
    "            if i == j:\n",
    "                list3.append(i)\n",
    "                list2.remove(j)\n",
    "              #Any letter from list1 that is found in list2 is added to list3. For an anagram this will be all letters.  \n",
    "\n",
    "    if len(list1)==len(list3)and len(list2)==0:\n",
    "        print(\"Anagram!\")\n",
    "    else:\n",
    "        print(\"No anagram\")\n",
    "#list3 will be the same length as list1 in the case of anagram.\n"
   ]
  },
  {
   "cell_type": "code",
   "execution_count": null,
   "metadata": {
    "collapsed": true
   },
   "outputs": [],
   "source": []
  }
 ],
 "metadata": {
  "kernelspec": {
   "display_name": "Python 3",
   "language": "python",
   "name": "python3"
  },
  "language_info": {
   "codemirror_mode": {
    "name": "ipython",
    "version": 3
   },
   "file_extension": ".py",
   "mimetype": "text/x-python",
   "name": "python",
   "nbconvert_exporter": "python",
   "pygments_lexer": "ipython3",
   "version": "3.6.3"
  }
 },
 "nbformat": 4,
 "nbformat_minor": 2
}
